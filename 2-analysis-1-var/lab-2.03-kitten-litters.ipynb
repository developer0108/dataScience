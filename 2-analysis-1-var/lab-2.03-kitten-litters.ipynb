{
  "cells": [
    {
      "cell_type": "markdown",
      "metadata": {
        "id": "dYTxJWJG5miJ"
      },
      "source": [
        "# Lab 2.03 - Univariate Analysis\n"
      ]
    },
    {
      "cell_type": "code",
      "execution_count": 2,
      "metadata": {
        "id": "MvwMKfrI8X-p",
        "metadata": {}
      },
      "outputs": [],
      "source": [
        "# Importing the necessary packages\n",
        "import numpy as np                                  # \"Scientific computing\"\n",
        "import scipy.stats as stats                         # Statistical tests\n",
        "\n",
        "import pandas as pd                                 # Data Frame\n",
        "from pandas.api.types import CategoricalDtype\n",
        "\n",
        "import matplotlib.pyplot as plt                     # Basic visualisation\n",
        "from statsmodels.graphics.mosaicplot import mosaic  # Mosaic diagram\n",
        "import seaborn as sns                               # Advanced data visualisation"
      ]
    },
    {
      "cell_type": "markdown",
      "metadata": {
        "id": "s4x9EYrH5miO"
      },
      "source": [
        "## Exercise 3 - Kitten litters\n",
        "\n",
        "A vet keeps a record of the number of kittens in litters produced by cats in his practice. The code block below contains the data as a frequency table.\n",
        "\n",
        "- First put the data into one list of individual observations: [1, 1, 2, 2, ... 5, 5, 6, 6, 6, 6, 7, 7, 8]  \n",
        "- Visualise the data set using all suitable chart types that you know of.\n",
        "- Calculate:\n",
        "    - the median size of a litter\n",
        "    - the mean size of a litter\n",
        "    - the lower quartile\n",
        "    - the upper quartile"
      ]
    },
    {
      "cell_type": "code",
      "execution_count": 3,
      "metadata": {
        "colab": {
          "base_uri": "https://localhost:8080/",
          "height": 300
        },
        "id": "7pKKrRuj5miO",
        "metadata": {},
        "outputId": "f0f1919c-bbdf-4149-802a-d9198278e359"
      },
      "outputs": [
        {
          "data": {
            "text/html": [
              "<div>\n",
              "<style scoped>\n",
              "    .dataframe tbody tr th:only-of-type {\n",
              "        vertical-align: middle;\n",
              "    }\n",
              "\n",
              "    .dataframe tbody tr th {\n",
              "        vertical-align: top;\n",
              "    }\n",
              "\n",
              "    .dataframe thead th {\n",
              "        text-align: right;\n",
              "    }\n",
              "</style>\n",
              "<table border=\"1\" class=\"dataframe\">\n",
              "  <thead>\n",
              "    <tr style=\"text-align: right;\">\n",
              "      <th></th>\n",
              "      <th>Number in litter</th>\n",
              "      <th>Frequency</th>\n",
              "    </tr>\n",
              "  </thead>\n",
              "  <tbody>\n",
              "    <tr>\n",
              "      <th>0</th>\n",
              "      <td>1</td>\n",
              "      <td>2</td>\n",
              "    </tr>\n",
              "    <tr>\n",
              "      <th>1</th>\n",
              "      <td>2</td>\n",
              "      <td>4</td>\n",
              "    </tr>\n",
              "    <tr>\n",
              "      <th>2</th>\n",
              "      <td>3</td>\n",
              "      <td>7</td>\n",
              "    </tr>\n",
              "    <tr>\n",
              "      <th>3</th>\n",
              "      <td>4</td>\n",
              "      <td>11</td>\n",
              "    </tr>\n",
              "    <tr>\n",
              "      <th>4</th>\n",
              "      <td>5</td>\n",
              "      <td>8</td>\n",
              "    </tr>\n",
              "    <tr>\n",
              "      <th>5</th>\n",
              "      <td>6</td>\n",
              "      <td>4</td>\n",
              "    </tr>\n",
              "    <tr>\n",
              "      <th>6</th>\n",
              "      <td>7</td>\n",
              "      <td>2</td>\n",
              "    </tr>\n",
              "    <tr>\n",
              "      <th>7</th>\n",
              "      <td>8</td>\n",
              "      <td>1</td>\n",
              "    </tr>\n",
              "  </tbody>\n",
              "</table>\n",
              "</div>"
            ],
            "text/plain": [
              "   Number in litter  Frequency\n",
              "0                 1          2\n",
              "1                 2          4\n",
              "2                 3          7\n",
              "3                 4         11\n",
              "4                 5          8\n",
              "5                 6          4\n",
              "6                 7          2\n",
              "7                 8          1"
            ]
          },
          "execution_count": 3,
          "metadata": {},
          "output_type": "execute_result"
        }
      ],
      "source": [
        "kittens = pd.DataFrame.from_dict({\n",
        "    'Number in litter': [1, 2, 3,  4, 5, 6, 7, 8],\n",
        "    'Frequency':        [2, 4, 7, 11, 8, 4, 2, 1]})\n",
        "kittens"
      ]
    },
    {
      "cell_type": "code",
      "execution_count": 63,
      "metadata": {
        "metadata": {}
      },
      "outputs": [
        {
          "name": "stdout",
          "output_type": "stream",
          "text": [
            "4.128205128205129\n",
            "4.0\n",
            "[3. 5.]\n",
            "[1, 1, 2, 2, 2, 2, 3, 3, 3, 3, 3, 3, 3, 4, 4, 4, 4, 4, 4, 4, 4, 4, 4, 4, 5, 5, 5, 5, 5, 5, 5, 5, 6, 6, 6, 6, 7, 7, 8]\n"
          ]
        }
      ],
      "source": [
        "a = []\n",
        "for x in range(len(kittens)):\n",
        "    a = a + ([kittens['Number in litter'][x]] * kittens['Frequency'][x]) \n",
        "\n",
        "m = np.mean(a)\n",
        "media = np.median(a)\n",
        "quantile = np.quantile(a, [.25, .75])\n",
        "\n",
        "print(m)\n",
        "print(media)\n",
        "print(quantile)\n",
        "print(a)"
      ]
    },
    {
      "cell_type": "markdown",
      "metadata": {},
      "source": [
        "### Some answers:\n",
        "\n",
        "- Median: 4.0\n",
        "- Mean: 4.128205128205129\n",
        "- Lower Quartile: 3.0\n",
        "- Upper Quartile: 5.0\n",
        "\n",
        "Source: Complete Probability & Statistics 1 for Cambridge International As & A Level"
      ]
    }
  ],
  "metadata": {
    "colab": {
      "provenance": []
    },
    "gpuClass": "standard",
    "kernelspec": {
      "display_name": "Python 3",
      "name": "python3"
    },
    "language_info": {
      "codemirror_mode": {
        "name": "ipython",
        "version": 3
      },
      "file_extension": ".py",
      "mimetype": "text/x-python",
      "name": "python",
      "nbconvert_exporter": "python",
      "pygments_lexer": "ipython3",
      "version": "3.10.13"
    },
    "orig_nbformat": 4
  },
  "nbformat": 4,
  "nbformat_minor": 0
}
