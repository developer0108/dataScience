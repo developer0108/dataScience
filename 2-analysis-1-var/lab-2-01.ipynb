{
 "cells": [
  {
   "attachments": {},
   "cell_type": "markdown",
   "metadata": {},
   "source": [
    "# Lab 2.01 - Australian Athletes (ais)\n",
    "\n",
    "Import all necessary Python libraries and load the AIS dataset from lab exercise 1.01. Also include the code for setting the index and conversion to categorical variables!"
   ]
  },
  {
   "cell_type": "code",
   "execution_count": 27,
   "metadata": {},
   "outputs": [],
   "source": [
    "# Importing the necessary packages\n",
    "import numpy as np                                  # \"Scientific computing\"\n",
    "import scipy.stats as stats                         # Statistical tests\n",
    "\n",
    "import pandas as pd                                 # Data Frame\n",
    "from pandas.api.types import CategoricalDtype\n",
    "\n",
    "import matplotlib.pyplot as plt                     # Basic visualisation\n",
    "from statsmodels.graphics.mosaicplot import mosaic  # Mosaic diagram\n",
    "import seaborn as sns                               # Advanced data visualisation\n",
    "\n",
    "ais = pd.read_csv('C:/Users/LukasGamePC/Documents/GitHub/dsai-labs/data/ais.csv',delimiter=\",\")\n",
    "ais.set_index(['id'])\n",
    "\n",
    "ais.sex = ais.sex.astype('category')\n",
    "ais.sport = ais.sport.astype('category')\n",
    "\n"
   ]
  },
  {
   "attachments": {},
   "cell_type": "markdown",
   "metadata": {},
   "source": [
    "Use an appropriate chart type to visualise the following variables. Are several chart types suitable? Make one of each! Note how some graphs nevertheless give a better insight into the data than other types of graphs.\n",
    "\n",
    "- `sex`\n",
    "- `sport`\n",
    "- `ht` (show this also divided by `sex` and by `sport`.)"
   ]
  },
  {
   "cell_type": "code",
   "execution_count": 55,
   "metadata": {},
   "outputs": [
    {
     "data": {
      "image/png": "[encoded data removed]",
      "text/plain": [
       "<Figure size 1000x500 with 2 Axes>"
      ]
     },
     "metadata": {},
     "output_type": "display_data"
    }
   ],
   "source": [
    "#sns.catplot(data = ais, kind = \"count\", y = \"sex\");\n",
    "#sns.catplot(data = ais, kind = \"count\", y = \"sport\");\n",
    "#sns.catplot(data = ais, kind = \"count\", y = \"sport\",order=ais.sport.value_counts().index);\n",
    "#sns.catplot(data= ais, kind= \"count\", y= \"sport\", col= \"sex\");\n",
    "\n",
    "#sns.boxplot(data = ais, x = \"ht\", y = \"sex\");\n",
    "#sns.boxplot(data = ais, x = \"ht\", y = \"sport\");\n",
    "\n",
    "#sns.kdeplot(x = ais[\"ht\"], hue = ais[\"sex\"]);\n",
    "#sns.kdeplot(x = ais[\"ht\"], hue = ais[\"sport\"]);"
   ]
  },
  {
   "attachments": {},
   "cell_type": "markdown",
   "metadata": {},
   "source": [
    "Select the following subsets from the dataset and calculate for each the appropriate measures of central tendency (and, when possible, dispersion) of the variables `ht` and `sex`:\n",
    "\n",
    "1. the rowers\n",
    "2. the rowers, netball and tennis players together\n",
    "3. the female basketball players and rowers together"
   ]
  },
  {
   "cell_type": "code",
   "execution_count": 59,
   "metadata": {},
   "outputs": [
    {
     "name": "stdout",
     "output_type": "stream",
     "text": [
      "Frequencies of row.sex:\n",
      "sex\n",
      "f    22\n",
      "m    15\n",
      "Name: count, dtype: int64\n",
      "Frequencies of row_net_tennis:\n",
      "sex\n",
      "f    45\n",
      "m    15\n",
      "Name: count, dtype: int64\n",
      "Frequencies of f_basket_row.sex:\n",
      "sex\n",
      "f    35\n",
      "m     0\n",
      "Name: count, dtype: int64\n",
      "===Measures for central tendency and dispersion===\n",
      "---Rowers:---\n",
      "count     37.000000\n",
      "mean     182.375676\n",
      "std        7.798376\n",
      "min      156.000000\n",
      "25%      179.300000\n",
      "50%      181.800000\n",
      "75%      186.300000\n",
      "max      198.000000\n",
      "Name: ht, dtype: float64\n",
      "---Rowers + Netball + Tennis:---\n",
      "               id        rcc        wcc         hc         hg        ferr   \n",
      "count   60.000000  60.000000  60.000000  60.000000  60.000000   60.000000  \\\n",
      "mean    57.250000   4.505167   7.290000  41.301667  13.905000   68.933333   \n",
      "std     38.872074   0.401529   1.830689   3.300616   1.208224   35.150942   \n",
      "min     14.000000   3.800000   3.300000  35.900000  11.800000   13.000000   \n",
      "25%     28.750000   4.225000   5.975000  38.300000  12.800000   40.750000   \n",
      "50%     43.500000   4.445000   6.800000  41.300000  13.950000   64.000000   \n",
      "75%     72.000000   4.840000   8.400000  43.850000  14.800000   89.500000   \n",
      "max    128.000000   5.400000  13.300000  49.500000  17.300000  183.000000   \n",
      "\n",
      "             bmi         ssf     pcBfat        lbm          ht         wt  \n",
      "count  60.000000   60.000000  60.000000  60.000000   60.000000  60.000000  \n",
      "mean   23.092333   90.293333  17.892667  61.888000  179.965000  75.108333  \n",
      "std     2.017703   35.396494   6.438303  11.643248    7.277009  10.371805  \n",
      "min    18.260000   34.800000   6.960000  41.540000  156.000000  49.800000  \n",
      "25%    21.452500   64.125000  12.137500  54.330000  175.825000  68.125000  \n",
      "50%    23.355000   89.600000  18.090000  57.290000  179.650000  74.200000  \n",
      "75%    24.487500  110.325000  22.447500  65.647500  184.825000  83.125000  \n",
      "max    26.790000  200.800000  35.520000  88.000000  198.000000  97.000000  \n",
      "---Female Basket + rowers:---\n",
      "              id        rcc        wcc         hc         hg       ferr   \n",
      "count  35.000000  35.000000  35.000000  35.000000  35.000000  35.000000  \\\n",
      "mean   18.000000   4.411714   6.591429  40.914286  13.697143  48.400000   \n",
      "std    10.246951   0.264681   1.469968   2.377857   0.897213  19.750205   \n",
      "min     1.000000   3.910000   3.300000  36.400000  11.600000  13.000000   \n",
      "25%     9.500000   4.260000   5.700000  39.400000  12.950000  35.500000   \n",
      "50%    18.000000   4.420000   6.400000  41.200000  14.000000  43.000000   \n",
      "75%    26.500000   4.510000   7.500000  42.650000  14.450000  66.000000   \n",
      "max    35.000000   5.020000  10.100000  44.800000  15.200000  92.000000   \n",
      "\n",
      "             bmi         ssf     pcBfat        lbm          ht         wt  \n",
      "count  35.000000   35.000000  35.000000  35.000000   35.000000  35.000000  \n",
      "mean   22.253429   95.420000  19.967714  57.765714  180.125714  72.317143  \n",
      "std     1.681536   22.402308   3.350047   5.640239    7.144078   7.888692  \n",
      "min    18.960000   52.600000  12.200000  41.540000  156.000000  49.800000  \n",
      "25%    20.925000   78.550000  17.800000  54.170000  177.400000  66.850000  \n",
      "50%    22.270000   96.800000  19.830000  57.180000  179.700000  73.600000  \n",
      "75%    23.275000  109.300000  22.320000  62.120000  184.650000  76.800000  \n",
      "max    25.750000  171.100000  28.830000  68.530000  195.900000  96.300000  \n",
      "---Median Female Basket + Rowers:---\n",
      "179.7\n",
      "---Median Female Basket + Rowers:---\n",
      "179.7\n",
      "---IQR Female Basket + Rowers:---\n",
      "7.249999999999972\n"
     ]
    }
   ],
   "source": [
    "row = ais[ais.sport == 'Row']\n",
    "row_net_tennis = ais[(ais.sport == 'Row') | (ais.sport == 'Netball') | (ais.sport == 'tennis')]\n",
    "f_basket_row = ais[ (ais.sex == 'f') & ((ais.sport == 'B_Ball') | (ais.sport == 'Row'))]\n",
    "\n",
    "row.sex.mode()\n",
    "\n",
    "print(f\"Frequencies of row.sex:\\n{row.sex.value_counts()}\")\n",
    "print(f\"Frequencies of row_net_tennis:\\n{row_net_tennis.sex.value_counts()}\")\n",
    "print(f\"Frequencies of f_basket_row.sex:\\n{f_basket_row.sex.value_counts()}\")\n",
    "\n",
    "print(f\"===Measures for central tendency and dispersion===\")\n",
    "print(f\"---Rowers:---\\n{row.ht.describe()}\")\n",
    "print(f\"---Rowers + Netball + Tennis:---\\n{row_net_tennis.describe()}\")\n",
    "print(f\"---Female Basket + rowers:---\\n{f_basket_row.describe()}\")\n",
    "\n",
    "print(f\"---Median Female Basket + Rowers:---\\n{f_basket_row.ht.median()}\")\n",
    "print(f\"---Median Female Basket + Rowers:---\\n{f_basket_row.ht.describe()['50%']}\")\n",
    "print(f\"---IQR Female Basket + Rowers:---\\n{f_basket_row.ht.describe()['75%'] - f_basket_row.ht.describe()['25%']}\")\n",
    "\n"
   ]
  },
  {
   "attachments": {},
   "cell_type": "markdown",
   "metadata": {},
   "source": [
    "## Check your answers\n",
    "\n",
    "As a check, here are the results of the last question. First the frequencies and mode of the variable `sex`:\n",
    "\n",
    "|           | Selection 1 | Selection 2 | Selection 3 |\n",
    "| :-------- | :---------- | :---------- | :---------- |\n",
    "| **f**     | 22          | 52          | 35          |\n",
    "| **m**     | 15          | 19          | 0           |\n",
    "| **mode**  | f           | f           | f           |\n",
    "\n",
    "Then the relevant measures for central tendency and dispersion for `ht` (max. 3 decimal places):\n",
    "\n",
    "| Statistic  | Selection 1 | Selection 2 | Selection 3 |\n",
    "| :--------- | :---------- | :---------- | :---------- |\n",
    "| mean       | 182.376     | 179.066     | 180.126     |\n",
    "| stdev      | 7.798       | 7.936       | 7.144       |\n",
    "| min        | 156         | 156         | 156         |\n",
    "| Q1         | 179.3       | 174.25      | 177.4       |\n",
    "| median     | 181.8       | 179.5       | 179.7       |\n",
    "| Q3         | 186.3       | 183.4       | 184.65      |\n",
    "| max        | 198         | 198         | 195.9       |\n",
    "| IQR        | 7           | 9.15        | 7.250       |"
   ]
  }
 ],
 "metadata": {
  "kernelspec": {
   "display_name": "Python 3",
   "language": "python",
   "name": "python3"
  },
  "language_info": {
   "codemirror_mode": {
    "name": "ipython",
    "version": 3
   },
   "file_extension": ".py",
   "mimetype": "text/x-python",
   "name": "python",
   "nbconvert_exporter": "python",
   "pygments_lexer": "ipython3",
   "version": "3.10.0"
  },
  "orig_nbformat": 4
 },
 "nbformat": 4,
 "nbformat_minor": 2
}
