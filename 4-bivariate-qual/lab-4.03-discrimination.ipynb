{
  "cells": [
    {
      "cell_type": "markdown",
      "metadata": {
        "id": "xDBTRYzLSeM_"
      },
      "source": [
        "# Lab 4.03 - Bivariate Analysis of Qualitative Data\n"
      ]
    },
    {
      "cell_type": "code",
      "execution_count": 1,
      "metadata": {
        "id": "j8I-eUfMSeNF",
        "metadata": {}
      },
      "outputs": [],
      "source": [
        "# Importing the necessary packages\n",
        "import numpy as np                                  # \"Scientific computing\"\n",
        "import scipy.stats as stats                         # Statistical tests\n",
        "\n",
        "import pandas as pd                                 # Data Frame\n",
        "from pandas.api.types import CategoricalDtype\n",
        "\n",
        "import matplotlib.pyplot as plt                     # Basic visualisation\n",
        "from statsmodels.graphics.mosaicplot import mosaic  # Mosaic diagram\n",
        "import seaborn as sns                               # Advanced data visualisation"
      ]
    },
    {
      "cell_type": "markdown",
      "metadata": {
        "id": "YBt7tOyqovNc"
      },
      "source": [
        "## Exercise 3 - Discrimination in schoolteacher hiring\n",
        "\n",
        "African Americans in a St. Louis suburb sued the city \n",
        "claiming they were discriminated against in schoolteacher hiring. Of the city's population, 5.7% were \n",
        "African American; of 405 teachers in the school system, 15 were African American. Set up appropriate \n",
        "hypotheses and determine whether African Americans \n",
        "are underrepresented.  \n",
        "Calculate the standardized residuals. \n",
        "\n",
        "Results of the main calculations:\n",
        "- Chi-squared        χ² = 3.0027\n",
        "- Critical value      g = 3.8415\n",
        "- p-value             p = 0.0831\n",
        "- standardized residuals for african american = -1.78328 > - 2"
      ]
    },
    {
      "cell_type": "code",
      "execution_count": 4,
      "metadata": {
        "id": "VxX_Gzrustbn",
        "metadata": {}
      },
      "outputs": [
        {
          "name": "stdout",
          "output_type": "stream",
          "text": [
            "Significance level  ⍺ = 0.05\n",
            "Sample size         n = 405\n",
            "k = 2; df = 1\n",
            "Chi-squared        χ² = 3.0027\n",
            "Critical value      g = 3.8415\n",
            "p-value             p = 0.0831\n"
          ]
        }
      ],
      "source": [
        "types =               ['african', 'other']\n",
        "observed =   np.array([   15,      405 - 15])\n",
        "expected_p = np.array([   .057,     1-.057])\n",
        "\n",
        "alpha = 0.05               # Significance level\n",
        "n = sum(observed)          # Sample size\n",
        "k = len(observed)          # Number of categories\n",
        "dof = k - 1                # Degrees of freedom\n",
        "expected = expected_p * n  # Expected absolute frequencies in the sample\n",
        "g = stats.chi2.isf(alpha, df=dof)  # Critical value\n",
        "\n",
        "# Goodness-of-fit-test in Python:\n",
        "chi2, p = stats.chisquare(f_obs=observed, f_exp=expected)\n",
        "\n",
        "print(\"Significance level  ⍺ = %.2f\" % alpha)\n",
        "print(\"Sample size         n = %d\" % n)\n",
        "print(\"k = %d; df = %d\" % (k, dof))\n",
        "print(\"Chi-squared        χ² = %.4f\" % chi2)\n",
        "print(\"Critical value      g = %.4f\" % g)\n",
        "print(\"p-value             p = %.4f\" % p)"
      ]
    },
    {
      "cell_type": "code",
      "execution_count": 3,
      "metadata": {
        "id": "V20Cup7Istbo",
        "metadata": {}
      },
      "outputs": [
        {
          "data": {
            "text/plain": [
              "<matplotlib.lines.Line2D at 0x77cf9da99930>"
            ]
          },
          "execution_count": 3,
          "metadata": {},
          "output_type": "execute_result"
        },
        {
          "data": {
            "image/png": "[encoded data removed]",
            "text/plain": [
              "<Figure size 640x480 with 1 Axes>"
            ]
          },
          "metadata": {},
          "output_type": "display_data"
        }
      ],
      "source": [
        "# Plot of the case:\n",
        "# x-values:\n",
        "x = np.linspace(0, 15, num=100)\n",
        "# probability density of the chi-squared distribution with 4 degrees of freedom\n",
        "y = stats.chi2.pdf(x, df=dof)\n",
        "# the number q for which the right tail probability is exactly 5%:\n",
        "q = stats.chi2.isf(alpha, df=dof)\n",
        "\n",
        "fig, tplot = plt.subplots(1, 1)\n",
        "tplot.plot(x, y)                     # probability density\n",
        "tplot.fill_between(x, y, where=x>=q, # critical area\n",
        "    color='lightblue')\n",
        "tplot.axvline(q)                     # critical value\n",
        "tplot.axvline(chi2, color='orange')  # chi-squared"
      ]
    },
    {
      "cell_type": "code",
      "execution_count": 6,
      "metadata": {
        "id": "2iuZ0kBHZKJt",
        "metadata": {}
      },
      "outputs": [
        {
          "name": "stdout",
          "output_type": "stream",
          "text": [
            "['african', 'other']\n",
            "[-1.73284309  1.73284309]\n"
          ]
        }
      ],
      "source": [
        "stdres = (observed - expected) / np.sqrt(expected * (1 - expected_p))\n",
        "print(types)\n",
        "print(stdres)"
      ]
    }
  ],
  "metadata": {
    "colab": {
      "provenance": []
    },
    "interpreter": {
      "hash": "e7370f93d1d0cde622a1f8e1c04877d8463912d04d973331ad4851f04de6915a"
    },
    "kernelspec": {
      "display_name": "Python 3.10.0 64-bit",
      "language": "python",
      "name": "python3"
    },
    "language_info": {
      "codemirror_mode": {
        "name": "ipython",
        "version": 3
      },
      "file_extension": ".py",
      "mimetype": "text/x-python",
      "name": "python",
      "nbconvert_exporter": "python",
      "pygments_lexer": "ipython3",
      "version": "3.10.13"
    },
    "orig_nbformat": 4
  },
  "nbformat": 4,
  "nbformat_minor": 0
}
