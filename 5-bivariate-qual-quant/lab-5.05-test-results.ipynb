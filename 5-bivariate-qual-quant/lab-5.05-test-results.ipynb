{
  "cells": [
    {
      "cell_type": "markdown",
      "metadata": {
        "id": "RzEWLSEPt30W"
      },
      "source": [
        "# Lab 5.05 - Two-sample t-test"
      ]
    },
    {
      "cell_type": "code",
      "execution_count": 1,
      "metadata": {
        "id": "QnEzGI2its2h",
        "metadata": {}
      },
      "outputs": [],
      "source": [
        "# Package imports\n",
        "import numpy as np                                  # \"Scientific computing\"\n",
        "import scipy.stats as stats                         # Statistical tests\n",
        "\n",
        "import pandas as pd                                 # Dataframe\n",
        "import matplotlib.pyplot as plt                     # Basic visualisation\n",
        "from statsmodels.graphics.mosaicplot import mosaic  # Mosaic plot\n",
        "import seaborn as sns                               # Advanced dataviz"
      ]
    },
    {
      "cell_type": "markdown",
      "metadata": {},
      "source": [
        "## Exercise 5 - Comparing test results between groups\n",
        "\n",
        "A large number of students participated in a test that was organized in several successive sessions. Because creating a separate test for each session was practically unfeasible, the same questions were used in each session. Consequently, there is a danger that students could pass on information about the test to the groups that still had to come after. Later groups then have an advantage over the first. However, this also evident from the test scores?\n",
        "\n",
        "The file `test-results.csv` contains all results of the test. The score is a floating point number with maximum 40. If the score field is empty, this indicates a student that was absent. Each session is identified by a letter, in the order of the consecutive sessions.\n",
        "\n",
        "- Day 1: sessions A, B\n",
        "- Day 2: sessions C, D, E\n",
        "- Day 3: sessions F, G, H\n",
        "\n",
        "Sessions A and B were conducted on a different campus, so it could be assumed that there is little to no communication with students from other sessions.\n",
        "\n",
        "If information was passed on successfully, we expect the scores of later groups to be significantly better than the first.\n",
        "\n",
        "**Note** that the reverse reasoning does not necessarily hold: if it turns out that the result of later sessions is indeed significantly better, this does not necessarily mean that the (only) cause is passing on of information. There may also be other causes (e.g. “weaker” class groups happen to be scheduled earlier).\n",
        "\n",
        "1. Explore the data. Calculate the appropriate measures for central tendency and dispersion for the full dataset and for each session individually.\n",
        "2. Plot a bar graph of the average score per session with error bars denoting one standard deviation.\n",
        "3. Make a box plot of the scores divided per group. Compare the sessions listed below. Do you think there is a significant difference between the results? Can we suspect that information has been passed on?\n",
        "    - A and B\n",
        "    - C, D and E\n",
        "    - F, G and H\n",
        "    - C and H\n",
        "    - A and H\n",
        "4. Use an appropriate statistical test to determine whether the differences between the groups listed above are also *significant*. Can we conclude that the later groups score better or not?"
      ]
    },
    {
      "cell_type": "markdown",
      "metadata": {},
      "source": [
        "### Answers\n",
        "\n",
        "The average score in each session was:\n",
        "\n",
        "| Session | Average score |\n",
        "| :-----: | :------------ |\n",
        "|    A    | 13.1          |\n",
        "|    B    | 17.2          |\n",
        "|    C    | 18.8          |\n",
        "|    D    | 22.5          |\n",
        "|    E    | 18.9          |\n",
        "|    F    | 17.8          |\n",
        "|    G    | 18.7          |\n",
        "|    H    | 20.9          |\n",
        "\n",
        "The table below shows the p-value of a one-sided t-test of two samples between the given sessions:\n",
        "\n",
        "| Alt. hypothesis                       | p-value   |\n",
        "| :------------------------------------ | :-------- |\n",
        "| $\\overline{x}_A - \\overline{x}_B < 0$ | 0.05356   |\n",
        "| $\\overline{x}_C - \\overline{x}_D < 0$ | 0.01343   |\n",
        "| $\\overline{x}_E - \\overline{x}_D < 0$ | 0.02356   |\n",
        "| $\\overline{x}_F - \\overline{x}_H < 0$ | 0.05767   |\n",
        "| $\\overline{x}_G - \\overline{x}_H < 0$ | 0.1156    |\n",
        "| $\\overline{x}_C - \\overline{x}_H < 0$ | 0.1463    |\n",
        "| $\\overline{x}_A - \\overline{x}_H < 0$ | 0.0003289 |\n",
        "\n",
        "Remarks:\n",
        "\n",
        "- The difference between **session A and B**, although it seems quite large, is insignificant for $\\alpha = 0.05$\n",
        "- **Sessions C, D and E**:\n",
        "  - Session D had the highest score. Sessions C and E had similar results, at least the average score was similar.\n",
        "  - Session D has a significantly higher score than either sessions C and E. However, session E came _after_ D, so the cause is definitely not the passing of information.\n",
        "- The differences between **sessions F, G and H** insignificant\n",
        "- **Sessions C and H** are respectively the first and the last session on the same campus. So, if there is an opportunity to pass on information about the test, there's definitely enough time between these two sessions. However, the difference is not significant!\n",
        "- The difference between **sessions A and H** are significant, but since they took place on different campuses, it is questionable that this difference is caused by passing on information."
      ]
    },
    {
      "cell_type": "code",
      "execution_count": null,
      "metadata": {
        "metadata": {}
      },
      "outputs": [],
      "source": [
        "df = pd.read_csv('../data/test-results.csv')\n",
        "df = df.dropna()\n",
        "df"
      ]
    },
    {
      "cell_type": "code",
      "execution_count": 26,
      "metadata": {
        "metadata": {}
      },
      "outputs": [
        {
          "data": {
            "text/html": [
              "<div>\n",
              "<style scoped>\n",
              "    .dataframe tbody tr th:only-of-type {\n",
              "        vertical-align: middle;\n",
              "    }\n",
              "\n",
              "    .dataframe tbody tr th {\n",
              "        vertical-align: top;\n",
              "    }\n",
              "\n",
              "    .dataframe thead th {\n",
              "        text-align: right;\n",
              "    }\n",
              "</style>\n",
              "<table border=\"1\" class=\"dataframe\">\n",
              "  <thead>\n",
              "    <tr style=\"text-align: right;\">\n",
              "      <th></th>\n",
              "      <th>Score</th>\n",
              "    </tr>\n",
              "    <tr>\n",
              "      <th>Session</th>\n",
              "      <th></th>\n",
              "    </tr>\n",
              "  </thead>\n",
              "  <tbody>\n",
              "    <tr>\n",
              "      <th>A</th>\n",
              "      <td>13.117647</td>\n",
              "    </tr>\n",
              "    <tr>\n",
              "      <th>B</th>\n",
              "      <td>17.214286</td>\n",
              "    </tr>\n",
              "    <tr>\n",
              "      <th>C</th>\n",
              "      <td>18.800000</td>\n",
              "    </tr>\n",
              "    <tr>\n",
              "      <th>D</th>\n",
              "      <td>22.451923</td>\n",
              "    </tr>\n",
              "    <tr>\n",
              "      <th>E</th>\n",
              "      <td>18.852273</td>\n",
              "    </tr>\n",
              "    <tr>\n",
              "      <th>F</th>\n",
              "      <td>17.814815</td>\n",
              "    </tr>\n",
              "    <tr>\n",
              "      <th>G</th>\n",
              "      <td>18.736207</td>\n",
              "    </tr>\n",
              "    <tr>\n",
              "      <th>H</th>\n",
              "      <td>20.946429</td>\n",
              "    </tr>\n",
              "  </tbody>\n",
              "</table>\n",
              "</div>"
            ],
            "text/plain": [
              "             Score\n",
              "Session           \n",
              "A        13.117647\n",
              "B        17.214286\n",
              "C        18.800000\n",
              "D        22.451923\n",
              "E        18.852273\n",
              "F        17.814815\n",
              "G        18.736207\n",
              "H        20.946429"
            ]
          },
          "execution_count": 26,
          "metadata": {},
          "output_type": "execute_result"
        }
      ],
      "source": [
        "df.groupby('Session').mean()"
      ]
    },
    {
      "cell_type": "code",
      "execution_count": 31,
      "metadata": {
        "metadata": {}
      },
      "outputs": [
        {
          "data": {
            "image/png": "[encoded data removed]",
            "text/plain": [
              "<Figure size 640x480 with 1 Axes>"
            ]
          },
          "metadata": {},
          "output_type": "display_data"
        }
      ],
      "source": [
        "sns.barplot(data=df, x='Session', y='Score', errorbar='sd');"
      ]
    },
    {
      "cell_type": "code",
      "execution_count": 36,
      "metadata": {
        "metadata": {}
      },
      "outputs": [
        {
          "data": {
            "text/plain": [
              "TtestResult(statistic=-1.5852812523185287, pvalue=0.06082433502561873, df=36.0)"
            ]
          },
          "execution_count": 36,
          "metadata": {},
          "output_type": "execute_result"
        }
      ],
      "source": [
        "\n",
        "stats.ttest_ind(alternative='less',\n",
        "    a=df.query(\"Session == 'A'\")['Score'],\n",
        "    b=df.query(\"Session == 'B'\")['Score'])"
      ]
    },
    {
      "cell_type": "code",
      "execution_count": 37,
      "metadata": {
        "metadata": {}
      },
      "outputs": [
        {
          "data": {
            "text/plain": [
              "TtestResult(statistic=-2.3068343177832022, pvalue=0.012666084034969152, df=49.0)"
            ]
          },
          "execution_count": 37,
          "metadata": {},
          "output_type": "execute_result"
        }
      ],
      "source": [
        "stats.ttest_ind(alternative='less',\n",
        "    a=df.query(\"Session == 'C'\")['Score'],\n",
        "    b=df.query(\"Session == 'D'\")['Score'])"
      ]
    },
    {
      "cell_type": "code",
      "execution_count": 38,
      "metadata": {
        "metadata": {}
      },
      "outputs": [
        {
          "data": {
            "text/plain": [
              "TtestResult(statistic=-3.4297104948156525, pvalue=0.0006723263030413242, df=43.0)"
            ]
          },
          "execution_count": 38,
          "metadata": {},
          "output_type": "execute_result"
        }
      ],
      "source": [
        "stats.ttest_ind(alternative='less',\n",
        "    a=df.query(\"Session == 'A'\")['Score'],\n",
        "    b=df.query(\"Session == 'H'\")['Score'])"
      ]
    }
  ],
  "metadata": {
    "colab": {
      "provenance": []
    },
    "kernelspec": {
      "display_name": "Python 3",
      "name": "python3"
    },
    "language_info": {
      "codemirror_mode": {
        "name": "ipython",
        "version": 3
      },
      "file_extension": ".py",
      "mimetype": "text/x-python",
      "name": "python",
      "nbconvert_exporter": "python",
      "pygments_lexer": "ipython3",
      "version": "3.12.2"
    }
  },
  "nbformat": 4,
  "nbformat_minor": 0
}
