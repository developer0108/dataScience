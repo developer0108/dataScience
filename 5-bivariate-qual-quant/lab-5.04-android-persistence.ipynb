{
  "cells": [
    {
      "cell_type": "markdown",
      "metadata": {
        "id": "RzEWLSEPt30W"
      },
      "source": [
        "# Lab 5.04 - Two-sample t-test"
      ]
    },
    {
      "cell_type": "code",
      "execution_count": 1,
      "metadata": {
        "id": "QnEzGI2its2h",
        "metadata": {}
      },
      "outputs": [],
      "source": [
        "# Package imports\n",
        "import numpy as np                                  # \"Scientific computing\"\n",
        "import scipy.stats as stats                         # Statistical tests\n",
        "\n",
        "import pandas as pd                                 # Dataframe\n",
        "import matplotlib.pyplot as plt                     # Basic visualisation\n",
        "from statsmodels.graphics.mosaicplot import mosaic  # Mosaic plot\n",
        "import seaborn as sns                               # Advanced dataviz"
      ]
    },
    {
      "cell_type": "markdown",
      "metadata": {},
      "source": [
        "## Exercise 4 - Android Persistence libraries performance comparison\n",
        "\n",
        "We analyzed the results of performance measurements for Android persistence libraries (Akin, 2016). Experiments were performed for different combinations of *DataSize* (Small, Medium, Large) and *PersistenceType* (GreenDAO, Realm, SharedPreferences, SQLite). For each data size, we were able to determine which persistence type yielded the best results.\n",
        "\n",
        "Now we will verify if the best persistence type at first glance is also *significantly* better than the competition.\n",
        "\n",
        "Specifically: Using a two-sample test for each data size, verify that the mean of the best persistence type is significantly lower than the mean of the second best and the worst scoring type.\n",
        "\n",
        "Can we maintain the conclusion that for a given data size, one persistence type is best, i.e. is significantly better than any other persistence type?"
      ]
    },
    {
      "cell_type": "code",
      "execution_count": 26,
      "metadata": {
        "metadata": {}
      },
      "outputs": [
        {
          "data": {
            "text/html": [
              "<div>\n",
              "<style scoped>\n",
              "    .dataframe tbody tr th:only-of-type {\n",
              "        vertical-align: middle;\n",
              "    }\n",
              "\n",
              "    .dataframe tbody tr th {\n",
              "        vertical-align: top;\n",
              "    }\n",
              "\n",
              "    .dataframe thead th {\n",
              "        text-align: right;\n",
              "    }\n",
              "</style>\n",
              "<table border=\"1\" class=\"dataframe\">\n",
              "  <thead>\n",
              "    <tr style=\"text-align: right;\">\n",
              "      <th></th>\n",
              "      <th></th>\n",
              "      <th>Time</th>\n",
              "    </tr>\n",
              "    <tr>\n",
              "      <th>PersistenceType</th>\n",
              "      <th>DataSize</th>\n",
              "      <th></th>\n",
              "    </tr>\n",
              "  </thead>\n",
              "  <tbody>\n",
              "    <tr>\n",
              "      <th>Realm</th>\n",
              "      <th>Large</th>\n",
              "      <td>319.55</td>\n",
              "    </tr>\n",
              "    <tr>\n",
              "      <th>SQLLite</th>\n",
              "      <th>Large</th>\n",
              "      <td>345.45</td>\n",
              "    </tr>\n",
              "    <tr>\n",
              "      <th>GreenDAO</th>\n",
              "      <th>Large</th>\n",
              "      <td>363.31</td>\n",
              "    </tr>\n",
              "    <tr>\n",
              "      <th>Realm</th>\n",
              "      <th>Medium</th>\n",
              "      <td>174.54</td>\n",
              "    </tr>\n",
              "    <tr>\n",
              "      <th>GreenDAO</th>\n",
              "      <th>Medium</th>\n",
              "      <td>223.62</td>\n",
              "    </tr>\n",
              "    <tr>\n",
              "      <th>SQLLite</th>\n",
              "      <th>Medium</th>\n",
              "      <td>233.82</td>\n",
              "    </tr>\n",
              "    <tr>\n",
              "      <th>Realm</th>\n",
              "      <th>Small</th>\n",
              "      <td>47.97</td>\n",
              "    </tr>\n",
              "    <tr>\n",
              "      <th>Sharedpreferences</th>\n",
              "      <th>Small</th>\n",
              "      <td>50.21</td>\n",
              "    </tr>\n",
              "    <tr>\n",
              "      <th>SQLLite</th>\n",
              "      <th>Small</th>\n",
              "      <td>53.97</td>\n",
              "    </tr>\n",
              "    <tr>\n",
              "      <th>GreenDAO</th>\n",
              "      <th>Small</th>\n",
              "      <td>56.81</td>\n",
              "    </tr>\n",
              "  </tbody>\n",
              "</table>\n",
              "</div>"
            ],
            "text/plain": [
              "                              Time\n",
              "PersistenceType   DataSize        \n",
              "Realm             Large     319.55\n",
              "SQLLite           Large     345.45\n",
              "GreenDAO          Large     363.31\n",
              "Realm             Medium    174.54\n",
              "GreenDAO          Medium    223.62\n",
              "SQLLite           Medium    233.82\n",
              "Realm             Small      47.97\n",
              "Sharedpreferences Small      50.21\n",
              "SQLLite           Small      53.97\n",
              "GreenDAO          Small      56.81"
            ]
          },
          "execution_count": 26,
          "metadata": {},
          "output_type": "execute_result"
        }
      ],
      "source": [
        "df = pd.read_csv('../data/android_persistence_cpu.csv', delimiter=';')\n",
        "df.groupby(['PersistenceType', 'DataSize']).sum().sort_values(['DataSize', 'Time'])"
      ]
    },
    {
      "cell_type": "code",
      "execution_count": 38,
      "metadata": {
        "metadata": {}
      },
      "outputs": [
        {
          "data": {
            "text/plain": [
              "TtestResult(statistic=-3.1251713022860717, pvalue=0.0016999220614984435, df=37.949081548450195)"
            ]
          },
          "execution_count": 38,
          "metadata": {},
          "output_type": "execute_result"
        }
      ],
      "source": [
        "df1 = df.query('PersistenceType == \"Realm\" and DataSize == \"Large\"')['Time']\n",
        "\n",
        "df2 = df.query('PersistenceType == \"SQLLite\" and DataSize == \"Large\"')['Time']\n",
        "\n",
        "stats.ttest_ind(a=df1, b=df2,\n",
        "    alternative='less', equal_var=False)"
      ]
    },
    {
      "cell_type": "code",
      "execution_count": 39,
      "metadata": {
        "metadata": {}
      },
      "outputs": [
        {
          "data": {
            "text/plain": [
              "TtestResult(statistic=-3.720451024030081, pvalue=0.0002506300568234833, df=50.368112409979226)"
            ]
          },
          "execution_count": 39,
          "metadata": {},
          "output_type": "execute_result"
        }
      ],
      "source": [
        "df1 = df.query('PersistenceType == \"Realm\" and DataSize == \"Medium\"')['Time']\n",
        "\n",
        "df2 = df.query('PersistenceType == \"GreenDAO\" and DataSize == \"Medium\"')['Time']\n",
        "\n",
        "stats.ttest_ind(a=df1, b=df2,\n",
        "    alternative='less', equal_var=False)"
      ]
    },
    {
      "cell_type": "code",
      "execution_count": 43,
      "metadata": {
        "metadata": {}
      },
      "outputs": [
        {
          "data": {
            "text/plain": [
              "TtestResult(statistic=-0.9624716662718156, pvalue=0.16992370571901444, df=57.43660193307136)"
            ]
          },
          "execution_count": 43,
          "metadata": {},
          "output_type": "execute_result"
        }
      ],
      "source": [
        "df1 = df.query('PersistenceType == \"Realm\" and DataSize == \"Small\"')['Time']\n",
        "\n",
        "df2 = df.query('PersistenceType == \"Sharedpreferences\" and DataSize == \"Small\"')['Time']\n",
        "\n",
        "stats.ttest_ind(a=df1, b=df2,\n",
        "    alternative='less', equal_var=False)"
      ]
    },
    {
      "cell_type": "markdown",
      "metadata": {},
      "source": [
        "### Answers\n",
        "\n",
        "The table below provides an overview of the best and second best persistence type for each data size (based on the sample mean).\n",
        "\n",
        "| Data Size | Best  | 2nd Best          | p-value   |\n",
        "| :-------- | :---- | :---------------- | :-------- |\n",
        "| Small     | Realm | SharedPreferences | 0.1699    |\n",
        "| Medium    | Realm | GreenDAO          | 0.0002506 |\n",
        "| Large     | Realm | SQLite            | 0.0017    |\n",
        "\n",
        "The conclusion of Akin (2016), which states that Realm is the most efficient persistence type, still holds, but for the small data sets the difference is not significant.\n",
        "\n",
        "Note that we have not explicitly selected a specific significance level in advance. However, for $\\alpha$ = 0.1, 0.05 or even 0.01, the same conclusion can be drawn."
      ]
    }
  ],
  "metadata": {
    "colab": {
      "provenance": []
    },
    "kernelspec": {
      "display_name": "Python 3",
      "name": "python3"
    },
    "language_info": {
      "codemirror_mode": {
        "name": "ipython",
        "version": 3
      },
      "file_extension": ".py",
      "mimetype": "text/x-python",
      "name": "python",
      "nbconvert_exporter": "python",
      "pygments_lexer": "ipython3",
      "version": "3.12.2"
    }
  },
  "nbformat": 4,
  "nbformat_minor": 0
}
