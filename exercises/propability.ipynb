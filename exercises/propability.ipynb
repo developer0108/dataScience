{
 "cells": [
  {
   "cell_type": "code",
   "execution_count": 1,
   "metadata": {},
   "outputs": [],
   "source": [
    "# Importing the necessary packages\n",
    "import numpy as np                                  # \"Scientific computing\"\n",
    "import scipy.stats as stats                         # Statistical tests\n",
    "\n",
    "import pandas as pd                                 # Data Frame\n",
    "from pandas.api.types import CategoricalDtype\n",
    "\n",
    "import matplotlib.pyplot as plt                     # Basic visualisation\n",
    "from statsmodels.graphics.mosaicplot import mosaic  # Mosaic diagram\n",
    "import seaborn as sns                               # Advanced data visualisation"
   ]
  },
  {
   "cell_type": "markdown",
   "metadata": {},
   "source": [
    "You have a bag containing 6 red balls, 4 blue balls, and 5 green balls. If three balls are drawn from the bag without replacement, what is the probability of drawing two blue balls and one green ball?"
   ]
  },
  {
   "cell_type": "code",
   "execution_count": 5,
   "metadata": {},
   "outputs": [
    {
     "name": "stdout",
     "output_type": "stream",
     "text": [
      "0.06593406593406594 455.0\n"
     ]
    }
   ],
   "source": [
    "red = 6\n",
    "blue = 4\n",
    "green = 5\n",
    "\n",
    "total = red + blue + green\n",
    "\n",
    "two_blue_one_green = 0\n",
    "\n",
    "turns = 3\n",
    "\n",
    "two_blue = blue/2 * (blue-1)/1 \n",
    "one_green = green/1\n",
    "\n",
    "possible = total / 3 * (total-1) / 2 * (total - 2) / 1\n",
    "\n",
    "two_blue_one_green = two_blue * one_green / possible\n",
    "\n",
    "print(two_blue_one_green, possible)"
   ]
  },
  {
   "cell_type": "markdown",
   "metadata": {},
   "source": [
    "A fair coin is flipped three times. What is the probability of getting exactly two heads?"
   ]
  },
  {
   "cell_type": "code",
   "execution_count": 6,
   "metadata": {},
   "outputs": [
    {
     "name": "stdout",
     "output_type": "stream",
     "text": [
      "0.375\n"
     ]
    }
   ],
   "source": [
    "turns = 3\n",
    "outcomes = 2\n",
    "\n",
    "print(3 / 2**3)"
   ]
  },
  {
   "cell_type": "markdown",
   "metadata": {},
   "source": [
    "A box contains 10 light bulbs, of which 3 are defective. If you randomly select 4 light bulbs from the box, what is the probability that exactly one of the selected bulbs is defective?"
   ]
  },
  {
   "cell_type": "code",
   "execution_count": 13,
   "metadata": {},
   "outputs": [
    {
     "name": "stdout",
     "output_type": "stream",
     "text": [
      "0.5 35.0\n"
     ]
    }
   ],
   "source": [
    "box = 10\n",
    "defect = 3\n",
    "select = 4\n",
    "\n",
    "possible_outcomes = (10 * 9 * 8 * 7) / (4 * 3 * 2 * 1)\n",
    "\n",
    "\n",
    "not_broken = (7 * 6 * 5) / (3 * 2 * 1)\n",
    "broken = 3\n",
    " \n",
    "exact_one_is_defect = (not_broken * 3) / possible_outcomes\n",
    "\n",
    "print(exact_one_is_defect, not_broken)"
   ]
  },
  {
   "cell_type": "markdown",
   "metadata": {},
   "source": [
    "A committee of 5 people is to be formed from a group of 8 women and 6 men. What is the probability that the committee will consist of 3 women and 2 men?"
   ]
  },
  {
   "cell_type": "code",
   "execution_count": 18,
   "metadata": {},
   "outputs": [
    {
     "name": "stdout",
     "output_type": "stream",
     "text": [
      "56.0 10.0 1287.0\n",
      "0.43512043512043513\n"
     ]
    }
   ],
   "source": [
    "group = 5\n",
    "women = 8\n",
    "men = 6\n",
    "\n",
    "# 3 women and 2 men\n",
    "possible_women = (8 * 7 * 6) / (3 * 2 * 1)\n",
    "possible_men = (6 * 5) / (2 * 1)\n",
    "possible_outcomes = (14 * 13 * 12 * 11 * 10) / (5 * 4 * 3 * 2 * 1)\n",
    "\n",
    "print(possible_women, possible_men, possible_outcomes)\n",
    "print((possible_women * possible_men) / possible_outcomes)"
   ]
  }
 ],
 "metadata": {
  "kernelspec": {
   "display_name": "Python 3",
   "language": "python",
   "name": "python3"
  },
  "language_info": {
   "codemirror_mode": {
    "name": "ipython",
    "version": 3
   },
   "file_extension": ".py",
   "mimetype": "text/x-python",
   "name": "python",
   "nbconvert_exporter": "python",
   "pygments_lexer": "ipython3",
   "version": "3.10.13"
  }
 },
 "nbformat": 4,
 "nbformat_minor": 2
}
